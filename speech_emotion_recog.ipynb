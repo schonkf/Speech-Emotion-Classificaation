{
 "cells": [
  {
   "cell_type": "code",
   "execution_count": 27,
   "id": "a3d8fd60-cc7f-464b-893e-129177a9333d",
   "metadata": {},
   "outputs": [],
   "source": [
    "import os\n",
    "import pandas as pd\n",
    "import numpy as np\n",
    "import librosa\n",
    "import librosa.display\n",
    "import matplotlib.pyplot as plt\n",
    "import IPython.display as ipd\n",
    "import kagglehub\n",
    "import seaborn as sns"
   ]
  },
  {
   "cell_type": "markdown",
   "id": "6d5fb944-8bc0-4f19-b3dc-a4bd4c48fcb3",
   "metadata": {},
   "source": [
    "## Importing the RAVDESS Dataset"
   ]
  },
  {
   "cell_type": "code",
   "execution_count": 145,
   "id": "fa002e04-634b-4bf5-b12d-6091a54bc632",
   "metadata": {},
   "outputs": [
    {
     "name": "stdout",
     "output_type": "stream",
     "text": [
      "Warning: Looks like you're using an outdated `kagglehub` version (installed: 0.3.6), please consider upgrading to the latest version (0.3.7).\n",
      "Path to dataset files: /Users/finnschonknecht/.cache/kagglehub/datasets/uwrfkaggler/ravdess-emotional-speech-audio/versions/1\n"
     ]
    }
   ],
   "source": [
    "path = kagglehub.dataset_download(\"uwrfkaggler/ravdess-emotional-speech-audio\")\n",
    "print(\"Path to dataset files:\", path)"
   ]
  },
  {
   "cell_type": "code",
   "execution_count": 5,
   "id": "7a3bdd4b-56f6-40b4-a0eb-a2e2c0a1c06d",
   "metadata": {},
   "outputs": [],
   "source": [
    "rav_path = '/Users/finnschonknecht/.cache/kagglehub/datasets/uwrfkaggler/ravdess-emotional-speech-audio/versions/1'"
   ]
  },
  {
   "cell_type": "code",
   "execution_count": 7,
   "id": "82503d92-50b7-4440-8319-dbae0713ef5f",
   "metadata": {},
   "outputs": [],
   "source": [
    "label_map_ravdess = {\n",
    "    '01' : 'neutral', '02' : 'calm', '03' : 'happy', '04' : 'sad', '05' : 'angry', '06' : 'fearful', '07' : 'disguist', '08' : 'surprised'\n",
    "}"
   ]
  },
  {
   "cell_type": "code",
   "execution_count": 143,
   "id": "2fa70d57-6ab5-4366-9948-bc31140bfcfb",
   "metadata": {},
   "outputs": [],
   "source": [
    "ravdess_file_paths = []\n",
    "ravdess_labels = []\n",
    "\n",
    "for actor in os.listdir(rav_path):\n",
    "    actor_path = os.path.join(rav_path, actor)\n",
    "    for file in os.listdir(actor_path):\n",
    "        if file.startswith('0'):\n",
    "            file_path = os.path.join(actor_path, file)\n",
    "            ravdess_file_paths.append(file_path)\n",
    "            emotion = file[6:8]\n",
    "            ravdess_labels.append(label_map_ravdess[emotion])"
   ]
  },
  {
   "cell_type": "code",
   "execution_count": 13,
   "id": "6bdc9edb-4429-46b8-9022-b0048057cb20",
   "metadata": {},
   "outputs": [
    {
     "data": {
      "text/html": [
       "<div>\n",
       "<style scoped>\n",
       "    .dataframe tbody tr th:only-of-type {\n",
       "        vertical-align: middle;\n",
       "    }\n",
       "\n",
       "    .dataframe tbody tr th {\n",
       "        vertical-align: top;\n",
       "    }\n",
       "\n",
       "    .dataframe thead th {\n",
       "        text-align: right;\n",
       "    }\n",
       "</style>\n",
       "<table border=\"1\" class=\"dataframe\">\n",
       "  <thead>\n",
       "    <tr style=\"text-align: right;\">\n",
       "      <th></th>\n",
       "      <th>paths</th>\n",
       "      <th>emotions</th>\n",
       "    </tr>\n",
       "  </thead>\n",
       "  <tbody>\n",
       "    <tr>\n",
       "      <th>0</th>\n",
       "      <td>/Users/finnschonknecht/.cache/kagglehub/datase...</td>\n",
       "      <td>angry</td>\n",
       "    </tr>\n",
       "    <tr>\n",
       "      <th>1</th>\n",
       "      <td>/Users/finnschonknecht/.cache/kagglehub/datase...</td>\n",
       "      <td>fearful</td>\n",
       "    </tr>\n",
       "    <tr>\n",
       "      <th>2</th>\n",
       "      <td>/Users/finnschonknecht/.cache/kagglehub/datase...</td>\n",
       "      <td>fearful</td>\n",
       "    </tr>\n",
       "    <tr>\n",
       "      <th>3</th>\n",
       "      <td>/Users/finnschonknecht/.cache/kagglehub/datase...</td>\n",
       "      <td>angry</td>\n",
       "    </tr>\n",
       "    <tr>\n",
       "      <th>4</th>\n",
       "      <td>/Users/finnschonknecht/.cache/kagglehub/datase...</td>\n",
       "      <td>disguist</td>\n",
       "    </tr>\n",
       "  </tbody>\n",
       "</table>\n",
       "</div>"
      ],
      "text/plain": [
       "                                               paths  emotions\n",
       "0  /Users/finnschonknecht/.cache/kagglehub/datase...     angry\n",
       "1  /Users/finnschonknecht/.cache/kagglehub/datase...   fearful\n",
       "2  /Users/finnschonknecht/.cache/kagglehub/datase...   fearful\n",
       "3  /Users/finnschonknecht/.cache/kagglehub/datase...     angry\n",
       "4  /Users/finnschonknecht/.cache/kagglehub/datase...  disguist"
      ]
     },
     "execution_count": 13,
     "metadata": {},
     "output_type": "execute_result"
    }
   ],
   "source": [
    "rav_data = pd.DataFrame({\n",
    "    'paths' : ravdess_file_paths,\n",
    "    'emotions' : ravdess_labels\n",
    "})\n",
    "## print first 5 rows of data\n",
    "rav_data.head()"
   ]
  },
  {
   "cell_type": "markdown",
   "id": "b98716f6-5190-45a5-91b5-0c5822a68d08",
   "metadata": {},
   "source": [
    "## Importing the TESS Dataset"
   ]
  },
  {
   "cell_type": "code",
   "execution_count": 147,
   "id": "e2473920-9774-477e-976e-932fe9d475fc",
   "metadata": {},
   "outputs": [
    {
     "name": "stdout",
     "output_type": "stream",
     "text": [
      "Warning: Looks like you're using an outdated `kagglehub` version (installed: 0.3.6), please consider upgrading to the latest version (0.3.7).\n",
      "Path to dataset files: /Users/finnschonknecht/.cache/kagglehub/datasets/ejlok1/toronto-emotional-speech-set-tess/versions/1\n"
     ]
    }
   ],
   "source": [
    "path = kagglehub.dataset_download(\"ejlok1/toronto-emotional-speech-set-tess\")\n",
    "print(\"Path to dataset files:\", path)"
   ]
  },
  {
   "cell_type": "code",
   "execution_count": 21,
   "id": "a5e086de-eca9-4a97-8536-e363867184f9",
   "metadata": {},
   "outputs": [],
   "source": [
    "tess_path = \"/Users/finnschonknecht/.cache/kagglehub/datasets/ejlok1/toronto-emotional-speech-set-tess/versions/1/TESS Toronto emotional speech set data\""
   ]
  },
  {
   "cell_type": "code",
   "execution_count": 23,
   "id": "24e3a83c-956a-45fd-b337-8eb4ef1da263",
   "metadata": {},
   "outputs": [],
   "source": [
    "tess_file_paths = []\n",
    "tess_labels = []\n",
    "\n",
    "for folder in os.listdir(tess_path):\n",
    "    if folder == 'TESS Toronto emotional speech set data':\n",
    "        continue\n",
    "    split = folder.split(\"_\")\n",
    "    label = split[1:]\n",
    "    label = ' '.join(label)\n",
    "    folder_path = os.path.join(tess_path, folder)\n",
    "    for file in os.listdir(folder_path):\n",
    "         file_path = os.path.join(folder_path, file)\n",
    "         tess_file_paths.append(file_path)\n",
    "         tess_labels.append(label)"
   ]
  },
  {
   "cell_type": "code",
   "execution_count": 25,
   "id": "9fb89306-695f-4562-8bec-3589f674b045",
   "metadata": {},
   "outputs": [
    {
     "data": {
      "text/html": [
       "<div>\n",
       "<style scoped>\n",
       "    .dataframe tbody tr th:only-of-type {\n",
       "        vertical-align: middle;\n",
       "    }\n",
       "\n",
       "    .dataframe tbody tr th {\n",
       "        vertical-align: top;\n",
       "    }\n",
       "\n",
       "    .dataframe thead th {\n",
       "        text-align: right;\n",
       "    }\n",
       "</style>\n",
       "<table border=\"1\" class=\"dataframe\">\n",
       "  <thead>\n",
       "    <tr style=\"text-align: right;\">\n",
       "      <th></th>\n",
       "      <th>paths</th>\n",
       "      <th>emotions</th>\n",
       "    </tr>\n",
       "  </thead>\n",
       "  <tbody>\n",
       "    <tr>\n",
       "      <th>0</th>\n",
       "      <td>/Users/finnschonknecht/.cache/kagglehub/datase...</td>\n",
       "      <td>disgust</td>\n",
       "    </tr>\n",
       "    <tr>\n",
       "      <th>1</th>\n",
       "      <td>/Users/finnschonknecht/.cache/kagglehub/datase...</td>\n",
       "      <td>disgust</td>\n",
       "    </tr>\n",
       "    <tr>\n",
       "      <th>2</th>\n",
       "      <td>/Users/finnschonknecht/.cache/kagglehub/datase...</td>\n",
       "      <td>disgust</td>\n",
       "    </tr>\n",
       "    <tr>\n",
       "      <th>3</th>\n",
       "      <td>/Users/finnschonknecht/.cache/kagglehub/datase...</td>\n",
       "      <td>disgust</td>\n",
       "    </tr>\n",
       "    <tr>\n",
       "      <th>4</th>\n",
       "      <td>/Users/finnschonknecht/.cache/kagglehub/datase...</td>\n",
       "      <td>disgust</td>\n",
       "    </tr>\n",
       "  </tbody>\n",
       "</table>\n",
       "</div>"
      ],
      "text/plain": [
       "                                               paths emotions\n",
       "0  /Users/finnschonknecht/.cache/kagglehub/datase...  disgust\n",
       "1  /Users/finnschonknecht/.cache/kagglehub/datase...  disgust\n",
       "2  /Users/finnschonknecht/.cache/kagglehub/datase...  disgust\n",
       "3  /Users/finnschonknecht/.cache/kagglehub/datase...  disgust\n",
       "4  /Users/finnschonknecht/.cache/kagglehub/datase...  disgust"
      ]
     },
     "execution_count": 25,
     "metadata": {},
     "output_type": "execute_result"
    }
   ],
   "source": [
    "tess_data = pd.DataFrame({\n",
    "    'paths' : tess_file_paths,\n",
    "    'emotions' : tess_labels\n",
    "})\n",
    "\n",
    "tess_data.head()"
   ]
  },
  {
   "cell_type": "markdown",
   "id": "51fc2844-34a4-447f-8689-56023b95f98b",
   "metadata": {},
   "source": [
    "## Ravdess Label Counts"
   ]
  },
  {
   "cell_type": "code",
   "execution_count": 29,
   "id": "ca0bc694-f45a-4260-ac38-058554c401cd",
   "metadata": {},
   "outputs": [
    {
     "data": {
      "image/png": "[encoded data removed]",
      "text/plain": [
       "<Figure size 1000x500 with 1 Axes>"
      ]
     },
     "metadata": {},
     "output_type": "display_data"
    }
   ],
   "source": [
    "plt.figure(figsize=(10,5))\n",
    "sns.countplot(x=rav_data['emotions'], order=rav_data['emotions'].value_counts().index)\n",
    "plt.xticks(rotation=45)\n",
    "plt.title(\"Emotion Counts\")\n",
    "plt.show()"
   ]
  },
  {
   "cell_type": "markdown",
   "id": "4c7e6736-65b4-44fd-8388-d3771e761d86",
   "metadata": {},
   "source": [
    "## TESS Label Counts"
   ]
  },
  {
   "cell_type": "code",
   "execution_count": 31,
   "id": "ca878323-8f25-4dca-b39e-62718a11e1e3",
   "metadata": {},
   "outputs": [
    {
     "data": {
      "image/png": "[encoded data removed]",
      "text/plain": [
       "<Figure size 1000x500 with 1 Axes>"
      ]
     },
     "metadata": {},
     "output_type": "display_data"
    }
   ],
   "source": [
    "plt.figure(figsize=(10,5))\n",
    "sns.countplot(x=tess_data['emotions'], order=tess_data['emotions'].value_counts().index)\n",
    "plt.xticks(rotation=45)\n",
    "plt.title(\"Emotion Counts\")\n",
    "plt.show()"
   ]
  },
  {
   "cell_type": "markdown",
   "id": "b5303163-8871-4544-a3a8-a7da84c3aa19",
   "metadata": {},
   "source": [
    "## Combining the Ravdess and TESS datasets"
   ]
  },
  {
   "cell_type": "code",
   "execution_count": 38,
   "id": "fa26ab57-2bea-400b-a174-4ba3a6a73e8f",
   "metadata": {},
   "outputs": [],
   "source": [
    "label_mapping = {\n",
    "    'Fear': 'fear', \n",
    "    'Sad': 'sad',\n",
    "    'Pleasant surprise': 'pleasant surprised'\n",
    "}"
   ]
  },
  {
   "cell_type": "code",
   "execution_count": 40,
   "id": "9c474623-3e32-47b0-8c48-df54120bd51e",
   "metadata": {},
   "outputs": [],
   "source": [
    "tess_data['emotions'] = tess_data['emotions'].replace(label_mapping)"
   ]
  },
  {
   "cell_type": "code",
   "execution_count": 149,
   "id": "02283204-6ccb-4c8a-8a28-7f1cae0ce704",
   "metadata": {},
   "outputs": [
    {
     "name": "stdout",
     "output_type": "stream",
     "text": [
      "                                               paths  emotions\n",
      "0  /Users/finnschonknecht/.cache/kagglehub/datase...     angry\n",
      "1  /Users/finnschonknecht/.cache/kagglehub/datase...   fearful\n",
      "2  /Users/finnschonknecht/.cache/kagglehub/datase...   fearful\n",
      "3  /Users/finnschonknecht/.cache/kagglehub/datase...     angry\n",
      "4  /Users/finnschonknecht/.cache/kagglehub/datase...  disguist\n"
     ]
    }
   ],
   "source": [
    "all_file_paths = ravdess_file_paths + tess_file_paths \n",
    "all_labels = ravdess_labels + tess_labels\n",
    "\n",
    "emotion_data = pd.DataFrame({\n",
    "    'paths': all_file_paths,\n",
    "    'emotions': all_labels\n",
    "})\n",
    "\n",
    "print(emotion_data.head())"
   ]
  },
  {
   "cell_type": "code",
   "execution_count": 52,
   "id": "f5f47466-bd78-46a1-be2a-eda98665fa64",
   "metadata": {},
   "outputs": [],
   "source": [
    "label_mapping = {\n",
    "    'disguist': 'disgust', \n",
    "    'Fear': 'fear',\n",
    "    'sad': 'Sad',\n",
    "    'Pleasant surprise' : 'pleasant surprised'\n",
    "}"
   ]
  },
  {
   "cell_type": "code",
   "execution_count": 54,
   "id": "92cd21d1-b48c-4240-bed4-8d684b6a3b46",
   "metadata": {},
   "outputs": [],
   "source": [
    "emotion_data['emotions'] = emotion_data['emotions'].replace(label_mapping)"
   ]
  },
  {
   "cell_type": "code",
   "execution_count": 56,
   "id": "443e5580-cf00-4c85-92c9-12f99ffe3819",
   "metadata": {},
   "outputs": [
    {
     "data": {
      "text/plain": [
       "array(['angry', 'fear', 'disgust', 'Sad', 'surprised', 'happy', 'calm',\n",
       "       'neutral', 'pleasant surprised'], dtype=object)"
      ]
     },
     "execution_count": 56,
     "metadata": {},
     "output_type": "execute_result"
    }
   ],
   "source": [
    "emotion_data['emotions'].unique()"
   ]
  },
  {
   "cell_type": "markdown",
   "id": "3fcb1406-13d8-43d6-bc3b-39542d12da82",
   "metadata": {},
   "source": [
    "## Seeing the combined label counts"
   ]
  },
  {
   "cell_type": "code",
   "execution_count": 58,
   "id": "8c8351f9-82fb-4054-a394-3a32301e5e37",
   "metadata": {},
   "outputs": [
    {
     "data": {
      "image/png": "[encoded data removed]",
      "text/plain": [
       "<Figure size 1000x500 with 1 Axes>"
      ]
     },
     "metadata": {},
     "output_type": "display_data"
    }
   ],
   "source": [
    "plt.figure(figsize=(10,5))\n",
    "sns.countplot(x=emotion_data['emotions'], order=emotion_data['emotions'].value_counts().index)\n",
    "plt.xticks(rotation=45)\n",
    "plt.title(\"Emotion Counts\")\n",
    "plt.show()"
   ]
  },
  {
   "cell_type": "markdown",
   "id": "ba770c9a-d1c6-4145-9369-f370922dd57f",
   "metadata": {},
   "source": [
    "## Extracting MFCC & Chroma features from raw audio"
   ]
  },
  {
   "cell_type": "code",
   "execution_count": 311,
   "id": "167f36eb-403e-4ef2-a68b-83df02ef9ed4",
   "metadata": {},
   "outputs": [],
   "source": [
    "def mfcc(filename):\n",
    "    y, sr = librosa.load(filename, duration=5, offset=0.5)\n",
    "    mfcc = np.mean(librosa.feature.mfcc(y=y, sr=sr, n_mfcc=13).T, axis=0)\n",
    "    return mfcc"
   ]
  },
  {
   "cell_type": "code",
   "execution_count": 62,
   "id": "2855ce48-49dc-4be5-bebb-7f4334982156",
   "metadata": {},
   "outputs": [
    {
     "name": "stdout",
     "output_type": "stream",
     "text": [
      "Processed dataset shape: (4240, 26)\n"
     ]
    }
   ],
   "source": [
    "def extract_features_from_file(file_path, n_mfcc=13):\n",
    "    try:\n",
    "        audio, sr = librosa.load(file_path, sr=None)\n",
    "\n",
    "        # Extract MFCC features\n",
    "        mfcc = librosa.feature.mfcc(y=audio, sr=sr, n_mfcc=n_mfcc)\n",
    "        mfcc_mean = np.mean(mfcc.T, axis=0)  # Take the mean over time\n",
    "\n",
    "        # Extract Chroma features\n",
    "        chroma = librosa.feature.chroma_stft(y=audio, sr=sr)\n",
    "        chroma_mean = np.mean(chroma.T, axis=0)  # Take the mean over time\n",
    "\n",
    "        features = np.concatenate((mfcc_mean, chroma_mean))\n",
    "        return features\n",
    "    except Exception as e:\n",
    "        print(f\"Error processing {file_path}: {e}\")\n",
    "        return None\n",
    "\n",
    "def process_audio_dataset(df, feature_column=\"paths\", label_column=\"emotions\", n_mfcc=13):\n",
    "    features_list = []\n",
    "    labels_list = []\n",
    "\n",
    "    for index, row in df.iterrows():\n",
    "        file_path = row[feature_column]\n",
    "        label = row[label_column]\n",
    "        \n",
    "        # Extract features for the audio file\n",
    "        features = extract_features_from_file(file_path, n_mfcc=n_mfcc)\n",
    "        if features is not None:\n",
    "            features_list.append(features)\n",
    "            labels_list.append(label)\n",
    "\n",
    "    features_df = pd.DataFrame(features_list)\n",
    "    features_df['label'] = labels_list\n",
    "    return features_df\n",
    "\n",
    "\n",
    "processed_df = process_audio_dataset(emotion_data)\n",
    "print(\"Processed dataset shape:\", processed_df.shape)"
   ]
  },
  {
   "cell_type": "markdown",
   "id": "7cb7825e-212c-4d93-81f2-c4faa5c7f957",
   "metadata": {},
   "source": [
    "## Training Traditional Models"
   ]
  },
  {
   "cell_type": "code",
   "execution_count": 101,
   "id": "e258334e-66e1-4ca9-91cd-fffe82742bc3",
   "metadata": {},
   "outputs": [],
   "source": [
    "from sklearn.model_selection import train_test_split\n",
    "from sklearn.preprocessing import LabelEncoder, OneHotEncoder, StandardScaler\n",
    "from sklearn.ensemble import RandomForestClassifier\n",
    "from sklearn.metrics import classification_report\n",
    "from sklearn import svm"
   ]
  },
  {
   "cell_type": "code",
   "execution_count": 69,
   "id": "47c1d8eb-6dec-494f-a9de-c30825914dbe",
   "metadata": {},
   "outputs": [],
   "source": [
    "X = processed_df.drop(columns=['label'])\n",
    "y = processed_df['label'].to_numpy()"
   ]
  },
  {
   "cell_type": "code",
   "execution_count": 71,
   "id": "7f1831df-f658-4f91-9ae8-719b7c5964d1",
   "metadata": {},
   "outputs": [
    {
     "data": {
      "text/plain": [
       "array(['x0_Sad', 'x0_angry', 'x0_calm', 'x0_disgust', 'x0_fear',\n",
       "       'x0_happy', 'x0_neutral', 'x0_pleasant surprised', 'x0_surprised'],\n",
       "      dtype=object)"
      ]
     },
     "execution_count": 71,
     "metadata": {},
     "output_type": "execute_result"
    }
   ],
   "source": [
    "encoder = OneHotEncoder()\n",
    "y_encoded = encoder.fit_transform(y.reshape(-1,1))\n",
    "\n",
    "encoder.get_feature_names_out()"
   ]
  },
  {
   "cell_type": "code",
   "execution_count": 73,
   "id": "97a97696-94c2-4b65-b464-7bfd6f54bf48",
   "metadata": {},
   "outputs": [],
   "source": [
    "X_train, X_test, y_train, y_test = train_test_split(X, y, test_size=0.2, random_state=42)"
   ]
  },
  {
   "cell_type": "code",
   "execution_count": 75,
   "id": "f1b67580-f591-47b8-a4b6-0d211af77fb5",
   "metadata": {},
   "outputs": [],
   "source": [
    "sclaler = StandardScaler()\n",
    "\n",
    "X_train_scaled = sclaler.fit_transform(X_train)\n",
    "X_test_scaled = sclaler.transform(X_test) "
   ]
  },
  {
   "cell_type": "code",
   "execution_count": 77,
   "id": "8eff8c83-20e8-4ea3-a4a6-8924ab462a71",
   "metadata": {},
   "outputs": [
    {
     "name": "stdout",
     "output_type": "stream",
     "text": [
      "                    precision    recall  f1-score   support\n",
      "\n",
      "               Sad       0.80      0.79      0.80       111\n",
      "             angry       0.82      0.83      0.83       106\n",
      "              calm       0.53      0.69      0.60        45\n",
      "           disgust       0.76      0.83      0.79       132\n",
      "              fear       0.91      0.73      0.81       131\n",
      "             happy       0.79      0.78      0.79       109\n",
      "           neutral       0.88      0.86      0.87        94\n",
      "pleasant surprised       0.96      0.91      0.93        77\n",
      "         surprised       0.53      0.63      0.57        43\n",
      "\n",
      "          accuracy                           0.80       848\n",
      "         macro avg       0.78      0.78      0.78       848\n",
      "      weighted avg       0.81      0.80      0.80       848\n",
      "\n"
     ]
    }
   ],
   "source": [
    "clf = RandomForestClassifier(random_state=42)\n",
    "clf.fit(X_train_scaled, y_train)\n",
    "\n",
    "y_pred = clf.predict(X_test_scaled)\n",
    "print(classification_report(y_test, y_pred))"
   ]
  },
  {
   "cell_type": "code",
   "execution_count": 85,
   "id": "f37d52cf-c9c2-407d-9cfe-25db03c63006",
   "metadata": {},
   "outputs": [
    {
     "name": "stdout",
     "output_type": "stream",
     "text": [
      "                    precision    recall  f1-score   support\n",
      "\n",
      "               Sad       0.76      0.78      0.77       111\n",
      "             angry       0.81      0.84      0.82       106\n",
      "              calm       0.41      0.62      0.50        45\n",
      "           disgust       0.73      0.78      0.75       132\n",
      "              fear       0.90      0.73      0.80       131\n",
      "             happy       0.84      0.79      0.82       109\n",
      "           neutral       0.99      0.84      0.91        94\n",
      "pleasant surprised       0.99      0.91      0.95        77\n",
      "         surprised       0.45      0.58      0.51        43\n",
      "\n",
      "          accuracy                           0.78       848\n",
      "         macro avg       0.76      0.76      0.76       848\n",
      "      weighted avg       0.80      0.78      0.79       848\n",
      "\n"
     ]
    }
   ],
   "source": [
    "svc = svm.SVC()\n",
    "\n",
    "svc.fit(X_train_scaled, y_train)\n",
    "y_pred = svc.predict(X_test_scaled)\n",
    "print(classification_report(y_test, y_pred))"
   ]
  },
  {
   "cell_type": "markdown",
   "id": "8d4a7cf6-61d3-4a16-b1f7-5743849341f1",
   "metadata": {},
   "source": [
    "## Training a LSTM model"
   ]
  },
  {
   "cell_type": "code",
   "execution_count": 112,
   "id": "70c1d37d-01a8-4cf8-9b6b-9dca15ee2f7a",
   "metadata": {},
   "outputs": [],
   "source": [
    "from tensorflow.keras.preprocessing.sequence import pad_sequences\n",
    "from sklearn.preprocessing import LabelEncoder\n",
    "from keras.models import Sequential\n",
    "from keras.layers import Dense, LSTM, Dropout\n",
    "from tensorflow.keras.regularizers import l2\n",
    "from tensorflow.keras.optimizers import Adam\n",
    "from tensorflow.keras.utils import to_categorical"
   ]
  },
  {
   "cell_type": "code",
   "execution_count": 106,
   "id": "d6115483-edab-4e32-a4e6-1215b0a21ac8",
   "metadata": {},
   "outputs": [
    {
     "name": "stdout",
     "output_type": "stream",
     "text": [
      "Reshaped X_train shape: (3392, 25, 1)\n"
     ]
    }
   ],
   "source": [
    "X_train_resampled = X_train_scaled\n",
    "\n",
    "n_samples = X_train_resampled.shape[0]\n",
    "n_features = X_train_resampled.shape[1]\n",
    "\n",
    "time_steps = min(50, n_features) \n",
    "\n",
    "if n_features < time_steps:\n",
    "    raise ValueError(\"The number of features must be greater than or equal to the number of time steps.\")\n",
    "\n",
    "features_per_time_step = n_features // time_steps\n",
    "\n",
    "if features_per_time_step == 0:\n",
    "    raise ValueError(f\"Cannot have features per time step = 0. Adjust time_steps or features.\")\n",
    "\n",
    "X_train_reshaped = X_train_resampled.reshape((n_samples, time_steps, features_per_time_step))\n",
    "\n",
    "print(\"Reshaped X_train shape:\", X_train_reshaped.shape)"
   ]
  },
  {
   "cell_type": "code",
   "execution_count": 108,
   "id": "fd2ef27c-f091-4c1a-8bb5-55bdbe441784",
   "metadata": {},
   "outputs": [
    {
     "name": "stdout",
     "output_type": "stream",
     "text": [
      "Reshaped X_test shape: (848, 25, 1)\n"
     ]
    }
   ],
   "source": [
    "X_test_resampled = X_test_scaled \n",
    "\n",
    "n_samples = X_test_resampled.shape[0]\n",
    "n_features = X_test_resampled.shape[1]\n",
    "\n",
    "time_steps = min(50, n_features)  \n",
    "\n",
    "if n_features < time_steps:\n",
    "    raise ValueError(\"The number of features must be greater than or equal to the number of time steps.\")\n",
    "\n",
    "features_per_time_step = n_features // time_steps\n",
    "\n",
    "if features_per_time_step == 0:\n",
    "    raise ValueError(f\"Cannot have features per time step = 0. Adjust time_steps or features.\")\n",
    "\n",
    "X_test_reshaped = X_test_resampled.reshape((n_samples, time_steps, features_per_time_step))\n",
    "print(\"Reshaped X_test shape:\", X_test_reshaped.shape)"
   ]
  },
  {
   "cell_type": "code",
   "execution_count": 110,
   "id": "7c5f4dda-1b53-4674-8c8c-d95d1e04c778",
   "metadata": {},
   "outputs": [],
   "source": [
    "X_train_padded = pad_sequences(X_train_reshaped, padding='post', dtype='float32')\n",
    "X_test_padded = pad_sequences(X_test_reshaped, padding='post', dtype='float32')"
   ]
  },
  {
   "cell_type": "code",
   "execution_count": 114,
   "id": "34210e05-8230-4164-834a-0d23b6da424c",
   "metadata": {},
   "outputs": [],
   "source": [
    "label_encoder = LabelEncoder()\n",
    "y_train_encoded = label_encoder.fit_transform(y_train)\n",
    "y_val_encoded = label_encoder.transform(y_test)\n",
    "\n",
    "y_train_one_hot = to_categorical(y_train_encoded)\n",
    "y_val_one_hot = to_categorical(y_val_encoded)"
   ]
  },
  {
   "cell_type": "code",
   "execution_count": 120,
   "id": "3e6d65e4-e0bd-41c7-9182-5815cfe6be1e",
   "metadata": {},
   "outputs": [
    {
     "data": {
      "text/plain": [
       "(3392, 25, 1)"
      ]
     },
     "execution_count": 120,
     "metadata": {},
     "output_type": "execute_result"
    }
   ],
   "source": [
    "X_train_padded.shape"
   ]
  },
  {
   "cell_type": "code",
   "execution_count": 126,
   "id": "54e46c22-94b3-4b6c-98c8-796e1a9a5035",
   "metadata": {},
   "outputs": [
    {
     "data": {
      "text/html": [
       "<pre style=\"white-space:pre;overflow-x:auto;line-height:normal;font-family:Menlo,'DejaVu Sans Mono',consolas,'Courier New',monospace\"><span style=\"font-weight: bold\">Model: \"sequential_4\"</span>\n",
       "</pre>\n"
      ],
      "text/plain": [
       "\u001b[1mModel: \"sequential_4\"\u001b[0m\n"
      ]
     },
     "metadata": {},
     "output_type": "display_data"
    },
    {
     "data": {
      "text/html": [
       "<pre style=\"white-space:pre;overflow-x:auto;line-height:normal;font-family:Menlo,'DejaVu Sans Mono',consolas,'Courier New',monospace\">┏━━━━━━━━━━━━━━━━━━━━━━━━━━━━━━━━━┳━━━━━━━━━━━━━━━━━━━━━━━━┳━━━━━━━━━━━━━━━┓\n",
       "┃<span style=\"font-weight: bold\"> Layer (type)                    </span>┃<span style=\"font-weight: bold\"> Output Shape           </span>┃<span style=\"font-weight: bold\">       Param # </span>┃\n",
       "┡━━━━━━━━━━━━━━━━━━━━━━━━━━━━━━━━━╇━━━━━━━━━━━━━━━━━━━━━━━━╇━━━━━━━━━━━━━━━┩\n",
       "│ lstm_12 (<span style=\"color: #0087ff; text-decoration-color: #0087ff\">LSTM</span>)                  │ (<span style=\"color: #00d7ff; text-decoration-color: #00d7ff\">None</span>, <span style=\"color: #00af00; text-decoration-color: #00af00\">25</span>, <span style=\"color: #00af00; text-decoration-color: #00af00\">256</span>)        │       <span style=\"color: #00af00; text-decoration-color: #00af00\">264,192</span> │\n",
       "├─────────────────────────────────┼────────────────────────┼───────────────┤\n",
       "│ dropout_16 (<span style=\"color: #0087ff; text-decoration-color: #0087ff\">Dropout</span>)            │ (<span style=\"color: #00d7ff; text-decoration-color: #00d7ff\">None</span>, <span style=\"color: #00af00; text-decoration-color: #00af00\">25</span>, <span style=\"color: #00af00; text-decoration-color: #00af00\">256</span>)        │             <span style=\"color: #00af00; text-decoration-color: #00af00\">0</span> │\n",
       "├─────────────────────────────────┼────────────────────────┼───────────────┤\n",
       "│ lstm_13 (<span style=\"color: #0087ff; text-decoration-color: #0087ff\">LSTM</span>)                  │ (<span style=\"color: #00d7ff; text-decoration-color: #00d7ff\">None</span>, <span style=\"color: #00af00; text-decoration-color: #00af00\">25</span>, <span style=\"color: #00af00; text-decoration-color: #00af00\">128</span>)        │       <span style=\"color: #00af00; text-decoration-color: #00af00\">197,120</span> │\n",
       "├─────────────────────────────────┼────────────────────────┼───────────────┤\n",
       "│ dropout_17 (<span style=\"color: #0087ff; text-decoration-color: #0087ff\">Dropout</span>)            │ (<span style=\"color: #00d7ff; text-decoration-color: #00d7ff\">None</span>, <span style=\"color: #00af00; text-decoration-color: #00af00\">25</span>, <span style=\"color: #00af00; text-decoration-color: #00af00\">128</span>)        │             <span style=\"color: #00af00; text-decoration-color: #00af00\">0</span> │\n",
       "├─────────────────────────────────┼────────────────────────┼───────────────┤\n",
       "│ lstm_14 (<span style=\"color: #0087ff; text-decoration-color: #0087ff\">LSTM</span>)                  │ (<span style=\"color: #00d7ff; text-decoration-color: #00d7ff\">None</span>, <span style=\"color: #00af00; text-decoration-color: #00af00\">64</span>)             │        <span style=\"color: #00af00; text-decoration-color: #00af00\">49,408</span> │\n",
       "├─────────────────────────────────┼────────────────────────┼───────────────┤\n",
       "│ dropout_18 (<span style=\"color: #0087ff; text-decoration-color: #0087ff\">Dropout</span>)            │ (<span style=\"color: #00d7ff; text-decoration-color: #00d7ff\">None</span>, <span style=\"color: #00af00; text-decoration-color: #00af00\">64</span>)             │             <span style=\"color: #00af00; text-decoration-color: #00af00\">0</span> │\n",
       "├─────────────────────────────────┼────────────────────────┼───────────────┤\n",
       "│ dense_8 (<span style=\"color: #0087ff; text-decoration-color: #0087ff\">Dense</span>)                 │ (<span style=\"color: #00d7ff; text-decoration-color: #00d7ff\">None</span>, <span style=\"color: #00af00; text-decoration-color: #00af00\">64</span>)             │         <span style=\"color: #00af00; text-decoration-color: #00af00\">4,160</span> │\n",
       "├─────────────────────────────────┼────────────────────────┼───────────────┤\n",
       "│ dropout_19 (<span style=\"color: #0087ff; text-decoration-color: #0087ff\">Dropout</span>)            │ (<span style=\"color: #00d7ff; text-decoration-color: #00d7ff\">None</span>, <span style=\"color: #00af00; text-decoration-color: #00af00\">64</span>)             │             <span style=\"color: #00af00; text-decoration-color: #00af00\">0</span> │\n",
       "├─────────────────────────────────┼────────────────────────┼───────────────┤\n",
       "│ dense_9 (<span style=\"color: #0087ff; text-decoration-color: #0087ff\">Dense</span>)                 │ (<span style=\"color: #00d7ff; text-decoration-color: #00d7ff\">None</span>, <span style=\"color: #00af00; text-decoration-color: #00af00\">9</span>)              │           <span style=\"color: #00af00; text-decoration-color: #00af00\">585</span> │\n",
       "└─────────────────────────────────┴────────────────────────┴───────────────┘\n",
       "</pre>\n"
      ],
      "text/plain": [
       "┏━━━━━━━━━━━━━━━━━━━━━━━━━━━━━━━━━┳━━━━━━━━━━━━━━━━━━━━━━━━┳━━━━━━━━━━━━━━━┓\n",
       "┃\u001b[1m \u001b[0m\u001b[1mLayer (type)                   \u001b[0m\u001b[1m \u001b[0m┃\u001b[1m \u001b[0m\u001b[1mOutput Shape          \u001b[0m\u001b[1m \u001b[0m┃\u001b[1m \u001b[0m\u001b[1m      Param #\u001b[0m\u001b[1m \u001b[0m┃\n",
       "┡━━━━━━━━━━━━━━━━━━━━━━━━━━━━━━━━━╇━━━━━━━━━━━━━━━━━━━━━━━━╇━━━━━━━━━━━━━━━┩\n",
       "│ lstm_12 (\u001b[38;5;33mLSTM\u001b[0m)                  │ (\u001b[38;5;45mNone\u001b[0m, \u001b[38;5;34m25\u001b[0m, \u001b[38;5;34m256\u001b[0m)        │       \u001b[38;5;34m264,192\u001b[0m │\n",
       "├─────────────────────────────────┼────────────────────────┼───────────────┤\n",
       "│ dropout_16 (\u001b[38;5;33mDropout\u001b[0m)            │ (\u001b[38;5;45mNone\u001b[0m, \u001b[38;5;34m25\u001b[0m, \u001b[38;5;34m256\u001b[0m)        │             \u001b[38;5;34m0\u001b[0m │\n",
       "├─────────────────────────────────┼────────────────────────┼───────────────┤\n",
       "│ lstm_13 (\u001b[38;5;33mLSTM\u001b[0m)                  │ (\u001b[38;5;45mNone\u001b[0m, \u001b[38;5;34m25\u001b[0m, \u001b[38;5;34m128\u001b[0m)        │       \u001b[38;5;34m197,120\u001b[0m │\n",
       "├─────────────────────────────────┼────────────────────────┼───────────────┤\n",
       "│ dropout_17 (\u001b[38;5;33mDropout\u001b[0m)            │ (\u001b[38;5;45mNone\u001b[0m, \u001b[38;5;34m25\u001b[0m, \u001b[38;5;34m128\u001b[0m)        │             \u001b[38;5;34m0\u001b[0m │\n",
       "├─────────────────────────────────┼────────────────────────┼───────────────┤\n",
       "│ lstm_14 (\u001b[38;5;33mLSTM\u001b[0m)                  │ (\u001b[38;5;45mNone\u001b[0m, \u001b[38;5;34m64\u001b[0m)             │        \u001b[38;5;34m49,408\u001b[0m │\n",
       "├─────────────────────────────────┼────────────────────────┼───────────────┤\n",
       "│ dropout_18 (\u001b[38;5;33mDropout\u001b[0m)            │ (\u001b[38;5;45mNone\u001b[0m, \u001b[38;5;34m64\u001b[0m)             │             \u001b[38;5;34m0\u001b[0m │\n",
       "├─────────────────────────────────┼────────────────────────┼───────────────┤\n",
       "│ dense_8 (\u001b[38;5;33mDense\u001b[0m)                 │ (\u001b[38;5;45mNone\u001b[0m, \u001b[38;5;34m64\u001b[0m)             │         \u001b[38;5;34m4,160\u001b[0m │\n",
       "├─────────────────────────────────┼────────────────────────┼───────────────┤\n",
       "│ dropout_19 (\u001b[38;5;33mDropout\u001b[0m)            │ (\u001b[38;5;45mNone\u001b[0m, \u001b[38;5;34m64\u001b[0m)             │             \u001b[38;5;34m0\u001b[0m │\n",
       "├─────────────────────────────────┼────────────────────────┼───────────────┤\n",
       "│ dense_9 (\u001b[38;5;33mDense\u001b[0m)                 │ (\u001b[38;5;45mNone\u001b[0m, \u001b[38;5;34m9\u001b[0m)              │           \u001b[38;5;34m585\u001b[0m │\n",
       "└─────────────────────────────────┴────────────────────────┴───────────────┘\n"
      ]
     },
     "metadata": {},
     "output_type": "display_data"
    },
    {
     "data": {
      "text/html": [
       "<pre style=\"white-space:pre;overflow-x:auto;line-height:normal;font-family:Menlo,'DejaVu Sans Mono',consolas,'Courier New',monospace\"><span style=\"font-weight: bold\"> Total params: </span><span style=\"color: #00af00; text-decoration-color: #00af00\">515,465</span> (1.97 MB)\n",
       "</pre>\n"
      ],
      "text/plain": [
       "\u001b[1m Total params: \u001b[0m\u001b[38;5;34m515,465\u001b[0m (1.97 MB)\n"
      ]
     },
     "metadata": {},
     "output_type": "display_data"
    },
    {
     "data": {
      "text/html": [
       "<pre style=\"white-space:pre;overflow-x:auto;line-height:normal;font-family:Menlo,'DejaVu Sans Mono',consolas,'Courier New',monospace\"><span style=\"font-weight: bold\"> Trainable params: </span><span style=\"color: #00af00; text-decoration-color: #00af00\">515,465</span> (1.97 MB)\n",
       "</pre>\n"
      ],
      "text/plain": [
       "\u001b[1m Trainable params: \u001b[0m\u001b[38;5;34m515,465\u001b[0m (1.97 MB)\n"
      ]
     },
     "metadata": {},
     "output_type": "display_data"
    },
    {
     "data": {
      "text/html": [
       "<pre style=\"white-space:pre;overflow-x:auto;line-height:normal;font-family:Menlo,'DejaVu Sans Mono',consolas,'Courier New',monospace\"><span style=\"font-weight: bold\"> Non-trainable params: </span><span style=\"color: #00af00; text-decoration-color: #00af00\">0</span> (0.00 B)\n",
       "</pre>\n"
      ],
      "text/plain": [
       "\u001b[1m Non-trainable params: \u001b[0m\u001b[38;5;34m0\u001b[0m (0.00 B)\n"
      ]
     },
     "metadata": {},
     "output_type": "display_data"
    }
   ],
   "source": [
    "model = Sequential([\n",
    "    LSTM(256, return_sequences=True, input_shape=(X_train_padded.shape[1], X_train_padded.shape[2])),\n",
    "    Dropout(0.2),\n",
    "    LSTM(128, return_sequences=True),\n",
    "    Dropout(0.2),\n",
    "    LSTM(64),\n",
    "    Dropout(0.2),\n",
    "    Dense(64, activation='relu', kernel_regularizer=l2(0.001)),\n",
    "    Dropout(0.2),\n",
    "    Dense(9, activation='softmax')\n",
    "])\n",
    "\n",
    "model.compile(loss='categorical_crossentropy', optimizer='adam', metrics=['accuracy'], )\n",
    "model.summary()"
   ]
  },
  {
   "cell_type": "code",
   "execution_count": 130,
   "id": "c1024128-0573-4fe4-8fbd-45bc4f85861e",
   "metadata": {},
   "outputs": [
    {
     "name": "stdout",
     "output_type": "stream",
     "text": [
      "Epoch 1/25\n",
      "\u001b[1m212/212\u001b[0m \u001b[32m━━━━━━━━━━━━━━━━━━━━\u001b[0m\u001b[37m\u001b[0m \u001b[1m9s\u001b[0m 44ms/step - accuracy: 0.3271 - loss: 1.7128 - val_accuracy: 0.3526 - val_loss: 1.6272\n",
      "Epoch 2/25\n",
      "\u001b[1m212/212\u001b[0m \u001b[32m━━━━━━━━━━━━━━━━━━━━\u001b[0m\u001b[37m\u001b[0m \u001b[1m9s\u001b[0m 43ms/step - accuracy: 0.4285 - loss: 1.4776 - val_accuracy: 0.5401 - val_loss: 1.2332\n",
      "Epoch 3/25\n",
      "\u001b[1m212/212\u001b[0m \u001b[32m━━━━━━━━━━━━━━━━━━━━\u001b[0m\u001b[37m\u001b[0m \u001b[1m9s\u001b[0m 43ms/step - accuracy: 0.5435 - loss: 1.2331 - val_accuracy: 0.6073 - val_loss: 1.1430\n",
      "Epoch 4/25\n",
      "\u001b[1m212/212\u001b[0m \u001b[32m━━━━━━━━━━━━━━━━━━━━\u001b[0m\u001b[37m\u001b[0m \u001b[1m9s\u001b[0m 44ms/step - accuracy: 0.6182 - loss: 1.0645 - val_accuracy: 0.6238 - val_loss: 1.0464\n",
      "Epoch 5/25\n",
      "\u001b[1m212/212\u001b[0m \u001b[32m━━━━━━━━━━━━━━━━━━━━\u001b[0m\u001b[37m\u001b[0m \u001b[1m9s\u001b[0m 44ms/step - accuracy: 0.6360 - loss: 1.0021 - val_accuracy: 0.6462 - val_loss: 0.9807\n",
      "Epoch 6/25\n",
      "\u001b[1m212/212\u001b[0m \u001b[32m━━━━━━━━━━━━━━━━━━━━\u001b[0m\u001b[37m\u001b[0m \u001b[1m9s\u001b[0m 44ms/step - accuracy: 0.6352 - loss: 0.9944 - val_accuracy: 0.6486 - val_loss: 1.0128\n",
      "Epoch 7/25\n",
      "\u001b[1m212/212\u001b[0m \u001b[32m━━━━━━━━━━━━━━━━━━━━\u001b[0m\u001b[37m\u001b[0m \u001b[1m9s\u001b[0m 44ms/step - accuracy: 0.6549 - loss: 0.9326 - val_accuracy: 0.6757 - val_loss: 0.9487\n",
      "Epoch 8/25\n",
      "\u001b[1m212/212\u001b[0m \u001b[32m━━━━━━━━━━━━━━━━━━━━\u001b[0m\u001b[37m\u001b[0m \u001b[1m9s\u001b[0m 44ms/step - accuracy: 0.6906 - loss: 0.8551 - val_accuracy: 0.6509 - val_loss: 0.9862\n",
      "Epoch 9/25\n",
      "\u001b[1m212/212\u001b[0m \u001b[32m━━━━━━━━━━━━━━━━━━━━\u001b[0m\u001b[37m\u001b[0m \u001b[1m9s\u001b[0m 44ms/step - accuracy: 0.6976 - loss: 0.8460 - val_accuracy: 0.6545 - val_loss: 0.9096\n",
      "Epoch 10/25\n",
      "\u001b[1m212/212\u001b[0m \u001b[32m━━━━━━━━━━━━━━━━━━━━\u001b[0m\u001b[37m\u001b[0m \u001b[1m9s\u001b[0m 44ms/step - accuracy: 0.7050 - loss: 0.8067 - val_accuracy: 0.6887 - val_loss: 0.8869\n",
      "Epoch 11/25\n",
      "\u001b[1m212/212\u001b[0m \u001b[32m━━━━━━━━━━━━━━━━━━━━\u001b[0m\u001b[37m\u001b[0m \u001b[1m9s\u001b[0m 44ms/step - accuracy: 0.7303 - loss: 0.7641 - val_accuracy: 0.7087 - val_loss: 0.8599\n",
      "Epoch 12/25\n",
      "\u001b[1m212/212\u001b[0m \u001b[32m━━━━━━━━━━━━━━━━━━━━\u001b[0m\u001b[37m\u001b[0m \u001b[1m9s\u001b[0m 44ms/step - accuracy: 0.7186 - loss: 0.7703 - val_accuracy: 0.7111 - val_loss: 0.8710\n",
      "Epoch 13/25\n",
      "\u001b[1m212/212\u001b[0m \u001b[32m━━━━━━━━━━━━━━━━━━━━\u001b[0m\u001b[37m\u001b[0m \u001b[1m9s\u001b[0m 44ms/step - accuracy: 0.7451 - loss: 0.7122 - val_accuracy: 0.6769 - val_loss: 0.8951\n",
      "Epoch 14/25\n",
      "\u001b[1m212/212\u001b[0m \u001b[32m━━━━━━━━━━━━━━━━━━━━\u001b[0m\u001b[37m\u001b[0m \u001b[1m9s\u001b[0m 44ms/step - accuracy: 0.7504 - loss: 0.6996 - val_accuracy: 0.6875 - val_loss: 0.8646\n",
      "Epoch 15/25\n",
      "\u001b[1m212/212\u001b[0m \u001b[32m━━━━━━━━━━━━━━━━━━━━\u001b[0m\u001b[37m\u001b[0m \u001b[1m9s\u001b[0m 44ms/step - accuracy: 0.7549 - loss: 0.6674 - val_accuracy: 0.7123 - val_loss: 0.8075\n",
      "Epoch 16/25\n",
      "\u001b[1m212/212\u001b[0m \u001b[32m━━━━━━━━━━━━━━━━━━━━\u001b[0m\u001b[37m\u001b[0m \u001b[1m9s\u001b[0m 44ms/step - accuracy: 0.7697 - loss: 0.6417 - val_accuracy: 0.6899 - val_loss: 0.8676\n",
      "Epoch 17/25\n",
      "\u001b[1m212/212\u001b[0m \u001b[32m━━━━━━━━━━━━━━━━━━━━\u001b[0m\u001b[37m\u001b[0m \u001b[1m9s\u001b[0m 44ms/step - accuracy: 0.7623 - loss: 0.6703 - val_accuracy: 0.6958 - val_loss: 0.8691\n",
      "Epoch 18/25\n",
      "\u001b[1m212/212\u001b[0m \u001b[32m━━━━━━━━━━━━━━━━━━━━\u001b[0m\u001b[37m\u001b[0m \u001b[1m9s\u001b[0m 44ms/step - accuracy: 0.7695 - loss: 0.6423 - val_accuracy: 0.7347 - val_loss: 0.7772\n",
      "Epoch 19/25\n",
      "\u001b[1m212/212\u001b[0m \u001b[32m━━━━━━━━━━━━━━━━━━━━\u001b[0m\u001b[37m\u001b[0m \u001b[1m9s\u001b[0m 44ms/step - accuracy: 0.7796 - loss: 0.6379 - val_accuracy: 0.6875 - val_loss: 0.9068\n",
      "Epoch 20/25\n",
      "\u001b[1m212/212\u001b[0m \u001b[32m━━━━━━━━━━━━━━━━━━━━\u001b[0m\u001b[37m\u001b[0m \u001b[1m9s\u001b[0m 44ms/step - accuracy: 0.7849 - loss: 0.5988 - val_accuracy: 0.7276 - val_loss: 0.8183\n",
      "Epoch 21/25\n",
      "\u001b[1m212/212\u001b[0m \u001b[32m━━━━━━━━━━━━━━━━━━━━\u001b[0m\u001b[37m\u001b[0m \u001b[1m9s\u001b[0m 44ms/step - accuracy: 0.7687 - loss: 0.6412 - val_accuracy: 0.7394 - val_loss: 0.7571\n",
      "Epoch 22/25\n",
      "\u001b[1m212/212\u001b[0m \u001b[32m━━━━━━━━━━━━━━━━━━━━\u001b[0m\u001b[37m\u001b[0m \u001b[1m9s\u001b[0m 44ms/step - accuracy: 0.8091 - loss: 0.5312 - val_accuracy: 0.7087 - val_loss: 0.8163\n",
      "Epoch 23/25\n",
      "\u001b[1m212/212\u001b[0m \u001b[32m━━━━━━━━━━━━━━━━━━━━\u001b[0m\u001b[37m\u001b[0m \u001b[1m9s\u001b[0m 44ms/step - accuracy: 0.8008 - loss: 0.5775 - val_accuracy: 0.7323 - val_loss: 0.7759\n",
      "Epoch 24/25\n",
      "\u001b[1m212/212\u001b[0m \u001b[32m━━━━━━━━━━━━━━━━━━━━\u001b[0m\u001b[37m\u001b[0m \u001b[1m9s\u001b[0m 44ms/step - accuracy: 0.7896 - loss: 0.5922 - val_accuracy: 0.7488 - val_loss: 0.7460\n",
      "Epoch 25/25\n",
      "\u001b[1m212/212\u001b[0m \u001b[32m━━━━━━━━━━━━━━━━━━━━\u001b[0m\u001b[37m\u001b[0m \u001b[1m9s\u001b[0m 44ms/step - accuracy: 0.8105 - loss: 0.5310 - val_accuracy: 0.7417 - val_loss: 0.7449\n"
     ]
    }
   ],
   "source": [
    "history = model.fit(X_train_padded, y_train_one_hot, epochs=25, batch_size=16, validation_data=(X_test_padded, y_val_one_hot))"
   ]
  },
  {
   "cell_type": "code",
   "execution_count": 132,
   "id": "b30a22fd-f6a8-4a87-91e2-581a560654b3",
   "metadata": {},
   "outputs": [
    {
     "data": {
      "image/png": "[encoded data removed]",
      "text/plain": [
       "<Figure size 640x480 with 1 Axes>"
      ]
     },
     "metadata": {},
     "output_type": "display_data"
    }
   ],
   "source": [
    "epochs = list(range(25))\n",
    "acc = history.history['accuracy']\n",
    "val_acc = history.history['val_accuracy']\n",
    "\n",
    "plt.plot(epochs, acc, label='train accuracy')\n",
    "plt.plot(epochs, val_acc, label='val accuracy')\n",
    "plt.xlabel('epochs')\n",
    "plt.ylabel('accuracy')\n",
    "plt.legend()\n",
    "plt.show()"
   ]
  },
  {
   "cell_type": "code",
   "execution_count": 136,
   "id": "7d85d084-fdcf-4638-92cf-e4b8076a4927",
   "metadata": {},
   "outputs": [
    {
     "name": "stdout",
     "output_type": "stream",
     "text": [
      "Classification Report:\n",
      "                     precision    recall  f1-score   support\n",
      "\n",
      "               Sad     0.7565    0.7838    0.7699       111\n",
      "             angry     0.8091    0.8396    0.8241       106\n",
      "              calm     0.4118    0.6222    0.4956        45\n",
      "           disgust     0.7305    0.7803    0.7546       132\n",
      "              fear     0.8962    0.7252    0.8017       131\n",
      "             happy     0.8431    0.7890    0.8152       109\n",
      "           neutral     0.9875    0.8404    0.9080        94\n",
      "pleasant surprised     0.9859    0.9091    0.9459        77\n",
      "         surprised     0.4545    0.5814    0.5102        43\n",
      "\n",
      "          accuracy                         0.7807       848\n",
      "         macro avg     0.7639    0.7634    0.7584       848\n",
      "      weighted avg     0.8046    0.7807    0.7886       848\n",
      "\n"
     ]
    }
   ],
   "source": [
    "print(\"Classification Report:\\n\", classification_report(y_test, y_pred, digits=4))"
   ]
  }
 ],
 "metadata": {
  "kernelspec": {
   "display_name": "Python 3 (ipykernel)",
   "language": "python",
   "name": "python3"
  },
  "language_info": {
   "codemirror_mode": {
    "name": "ipython",
    "version": 3
   },
   "file_extension": ".py",
   "mimetype": "text/x-python",
   "name": "python",
   "nbconvert_exporter": "python",
   "pygments_lexer": "ipython3",
   "version": "3.11.10"
  }
 },
 "nbformat": 4,
 "nbformat_minor": 5
}
